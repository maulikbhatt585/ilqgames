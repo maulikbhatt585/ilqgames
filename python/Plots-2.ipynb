{
 "cells": [
  {
   "cell_type": "code",
   "execution_count": 1,
   "id": "6fdfebb8",
   "metadata": {},
   "outputs": [],
   "source": [
    "from matplotlib import pyplot as plt\n",
    "import numpy as np"
   ]
  },
  {
   "cell_type": "code",
   "execution_count": 4,
   "id": "5d416ed1",
   "metadata": {},
   "outputs": [
    {
     "data": {
      "text/plain": [
       "(202,)"
      ]
     },
     "execution_count": 4,
     "metadata": {},
     "output_type": "execute_result"
    }
   ],
   "source": [
    "name = 'solve_lq_times_potential_1'\n",
    "solve_time_pot = np.loadtxt(\"data/three_unicycle_potential_1/\"+name+\".csv\",  delimiter=\",\")\n",
    "solve_time_pot.shape\n",
    "\n",
    "name_2 = 'solve_lq_times_feedback_1'\n",
    "solve_time_feed= np.loadtxt(\"data/three_unicycle_feedback_1/\"+name_2+\".csv\",  delimiter=\",\")\n",
    "\n",
    "solve_time_feed.shape"
   ]
  },
  {
   "cell_type": "code",
   "execution_count": 6,
   "id": "fe798b29",
   "metadata": {},
   "outputs": [
    {
     "data": {
      "text/plain": [
       "0.004382566633662873"
      ]
     },
     "execution_count": 6,
     "metadata": {},
     "output_type": "execute_result"
    }
   ],
   "source": [
    "solve_time_pot.mean()"
   ]
  },
  {
   "cell_type": "code",
   "execution_count": 10,
   "id": "d28e3ce8",
   "metadata": {},
   "outputs": [
    {
     "data": {
      "text/plain": [
       "0.012930496856436371"
      ]
     },
     "execution_count": 10,
     "metadata": {},
     "output_type": "execute_result"
    }
   ],
   "source": [
    "solve_time_feed.mean()"
   ]
  },
  {
   "cell_type": "code",
   "execution_count": 9,
   "id": "c7dff88e",
   "metadata": {},
   "outputs": [
    {
     "data": {
      "text/plain": [
       "2.950439305843317"
      ]
     },
     "execution_count": 9,
     "metadata": {},
     "output_type": "execute_result"
    }
   ],
   "source": [
    "solve_time_feed.mean()/solve_time_pot.mean()"
   ]
  },
  {
   "cell_type": "code",
   "execution_count": null,
   "id": "ea22ff77",
   "metadata": {},
   "outputs": [],
   "source": []
  }
 ],
 "metadata": {
  "kernelspec": {
   "display_name": "Python 3 (ipykernel)",
   "language": "python",
   "name": "python3"
  },
  "language_info": {
   "codemirror_mode": {
    "name": "ipython",
    "version": 3
   },
   "file_extension": ".py",
   "mimetype": "text/x-python",
   "name": "python",
   "nbconvert_exporter": "python",
   "pygments_lexer": "ipython3",
   "version": "3.9.7"
  }
 },
 "nbformat": 4,
 "nbformat_minor": 5
}
